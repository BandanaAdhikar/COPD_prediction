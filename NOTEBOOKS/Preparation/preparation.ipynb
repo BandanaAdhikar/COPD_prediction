{
 "cells": [
  {
   "attachments": {},
   "cell_type": "markdown",
   "metadata": {},
   "source": [
    "# Data Collection"
   ]
  },
  {
   "attachments": {},
   "cell_type": "markdown",
   "metadata": {},
   "source": [
    "## Identify the data sources\n",
    "\n",
    "### Identufy the data sources\n",
    "\n",
    "* World Health Organization (WHO) Nepal Office\n",
    "* Ministry of Health and Population, Nepal\n",
    "* Nepal Medical Association (NMA)\n",
    "* Hospitals and Medical Institutions \n",
    "* Department of Health Services (DoHS), Nepal"
   ]
  },
  {
   "attachments": {},
   "cell_type": "markdown",
   "metadata": {},
   "source": [
    "# References:\n",
    "\n",
    "* https://elibrary.nhrc.gov.np/handle/20.500.14356/1174\n",
    "* https://www.who.int/home/search-results?indexCatalogue=genericsearchindex1&searchQuery=Chronic%20Obstructive%20Pulmonary%20Disease&wordsMode=AnyWord\n",
    "\n",
    "* https://www.worldbank.org/en/search?q=Chronic+Obstructive+Pulmonary+Diseas\n",
    "\n",
    "* https://www.dovepress.com/factors-associated-with-chronic-obstructive-pulmonary-diseases-in-nepa-peer-reviewed-fulltext-article-COPD\n",
    "\n",
    "* https://www.tandfonline.com/doi/pdf/10.2147/COPD.S268110\n",
    "\n",
    "* https://github.com/phenoflowChronic-Obstructive-Pulmonary-Disease---9387f040-1873-11ef-9de4-4d4ea830ad16?tab=readme-ov-file"
   ]
  }
 ],
 "metadata": {
  "language_info": {
   "name": "python"
  },
  "orig_nbformat": 4
 },
 "nbformat": 4,
 "nbformat_minor": 2
}
